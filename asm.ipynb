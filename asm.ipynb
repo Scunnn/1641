{
 "cells": [
  {
   "cell_type": "code",
   "execution_count": 45,
   "metadata": {},
   "outputs": [
    {
     "name": "stdout",
     "output_type": "stream",
     "text": [
      "done\n",
      "Done!\n"
     ]
    }
   ],
   "source": [
    "import csv \n",
    "try:\n",
    "    f = open('Dataset/Highest Holywood Grossing Movies.csv','r')\n",
    "    fw = open('Dataset/Highest Holywood Grossing Movies_clean.csv','w',newline='\\n')\n",
    "    reader = csv.reader(f)\n",
    "    header = next(reader)\n",
    "    del header[0]\n",
    "    writer = csv.writer(fw)\n",
    "    writer.writerow(header) #write header to new file\n",
    "    for row in reader:\n",
    "        del row[0]\n",
    "        row[7] = row[7][1:-1] #do del 1 row nên index -1 \n",
    "        row[8] = int(row[8][0:1])*60\n",
    "        if row[9] == 'NA':\n",
    "            row[9] = '0'\n",
    "        if row[9] == 'G':\n",
    "            row[9] = '0'\n",
    "        if row[9] == 'PG-13':\n",
    "            row[9] = '13'\n",
    "        if row[9] == 'PG':\n",
    "            row[9] = '13'\n",
    "        if row[9] == 'R':\n",
    "            row[9] = '17'\n",
    "        writer.writerow(row)\n",
    "except FileNotFoundError:\n",
    "    print('File Not Found')\n",
    "finally:\n",
    "    print('Done!')\n",
    "    f.close()\n",
    "    fw.close()"
   ]
  },
  {
   "cell_type": "code",
   "execution_count": 75,
   "metadata": {},
   "outputs": [
    {
     "name": "stdout",
     "output_type": "stream",
     "text": [
      "done\n",
      "Done!\n"
     ]
    }
   ],
   "source": [
    "import csv \n",
    "try:\n",
    "    f = open('Dataset/movie_success_rate.csv','r')\n",
    "    fw = open('Dataset/movie_success_rate_clean.csv','w',newline='\\n')\n",
    "    reader = csv.reader(f)\n",
    "    header = next(reader)\n",
    "    del header[3]\n",
    "    for i in range(11,29): #vòng lặp để xóa header.\n",
    "        del header[11]\n",
    "    header[11] = 'Number of Genre'\n",
    "    header[12] = 'Number of Actor'\n",
    "    writer = csv.writer(fw)\n",
    "    writer.writerow(header) #write header to new file\n",
    "    for row in reader:\n",
    "        del row[3]\n",
    "        for i in range(11,29): #Vòng lặp để xóa data.\n",
    "            del row[11]\n",
    "        row[11] = int(len(row[2].split(',')))\n",
    "        row[12] = int(len(row[4].split(',')))\n",
    "        if row[13] == '1':\n",
    "            row[13] = 'Success'\n",
    "        if row[13] == '0':\n",
    "            row[13] = 'Fail'\n",
    "        writer.writerow(row)\n",
    "    print(\"done\")\n",
    "except FileNotFoundError:\n",
    "    print('File Not Found')\n",
    "finally:\n",
    "    print('Done!')\n",
    "    f.close()\n",
    "    fw.close()"
   ]
  }
 ],
 "metadata": {
  "kernelspec": {
   "display_name": "base",
   "language": "python",
   "name": "python3"
  },
  "language_info": {
   "codemirror_mode": {
    "name": "ipython",
    "version": 3
   },
   "file_extension": ".py",
   "mimetype": "text/x-python",
   "name": "python",
   "nbconvert_exporter": "python",
   "pygments_lexer": "ipython3",
   "version": "3.9.12"
  },
  "orig_nbformat": 4,
  "vscode": {
   "interpreter": {
    "hash": "bc0ed47573d67d9484cc2db8ac8807b2f9609cf8f21fb9a6a0fae69c934fcb27"
   }
  }
 },
 "nbformat": 4,
 "nbformat_minor": 2
}
